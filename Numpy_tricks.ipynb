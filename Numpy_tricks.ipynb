{
  "nbformat": 4,
  "nbformat_minor": 0,
  "metadata": {
    "colab": {
      "provenance": []
    },
    "kernelspec": {
      "name": "python3",
      "display_name": "Python 3"
    },
    "language_info": {
      "name": "python"
    }
  },
  "cells": [
    {
      "cell_type": "markdown",
      "source": [
        "# **np.sort**"
      ],
      "metadata": {
        "id": "b7m9utwut7UI"
      }
    },
    {
      "cell_type": "code",
      "source": [
        "# code\n",
        "import numpy as np\n",
        "a = np.random.randint(1,100,15)\n",
        "a"
      ],
      "metadata": {
        "colab": {
          "base_uri": "https://localhost:8080/"
        },
        "id": "vJUzuaz7gqTr",
        "outputId": "4e0f5a6c-723d-45fa-87f3-04d9df1ffac8"
      },
      "execution_count": 62,
      "outputs": [
        {
          "output_type": "execute_result",
          "data": {
            "text/plain": [
              "array([35,  7, 70,  2, 46, 86, 21, 89, 49, 14, 64, 19, 98, 88, 35])"
            ]
          },
          "metadata": {},
          "execution_count": 62
        }
      ]
    },
    {
      "cell_type": "code",
      "source": [
        "b = np.random.randint(1,100,24).reshape(6,4)\n",
        "b"
      ],
      "metadata": {
        "colab": {
          "base_uri": "https://localhost:8080/"
        },
        "id": "Dfer5zY9-HaK",
        "outputId": "a12a6c60-36b3-4e6a-ace6-a34e81703b46"
      },
      "execution_count": 63,
      "outputs": [
        {
          "output_type": "execute_result",
          "data": {
            "text/plain": [
              "array([[33, 70, 44, 80],\n",
              "       [31, 68, 14,  2],\n",
              "       [67,  8, 28, 77],\n",
              "       [33, 30, 47, 47],\n",
              "       [86, 79, 92, 22],\n",
              "       [54, 12, 25, 58]])"
            ]
          },
          "metadata": {},
          "execution_count": 63
        }
      ]
    },
    {
      "cell_type": "code",
      "source": [
        "np.sort(a)[::-1]"
      ],
      "metadata": {
        "colab": {
          "base_uri": "https://localhost:8080/"
        },
        "id": "dyjeU-C6KznM",
        "outputId": "0e1e3b7b-83c9-4459-948e-be310e642d1b"
      },
      "execution_count": 64,
      "outputs": [
        {
          "output_type": "execute_result",
          "data": {
            "text/plain": [
              "array([98, 89, 88, 86, 70, 64, 49, 46, 35, 35, 21, 19, 14,  7,  2])"
            ]
          },
          "metadata": {},
          "execution_count": 64
        }
      ]
    },
    {
      "cell_type": "code",
      "source": [
        "np.sort(b,axis=0)"
      ],
      "metadata": {
        "colab": {
          "base_uri": "https://localhost:8080/"
        },
        "id": "9fAdd5BWLHsq",
        "outputId": "90c5c529-e8a8-400f-e9da-6b9f4365862a"
      },
      "execution_count": 4,
      "outputs": [
        {
          "output_type": "execute_result",
          "data": {
            "text/plain": [
              "array([[ 1,  6,  2, 29],\n",
              "       [ 9, 25, 20, 44],\n",
              "       [43, 31, 46, 65],\n",
              "       [57, 73, 49, 70],\n",
              "       [68, 79, 82, 78],\n",
              "       [81, 88, 98, 82]])"
            ]
          },
          "metadata": {},
          "execution_count": 4
        }
      ]
    },
    {
      "cell_type": "markdown",
      "source": [
        "# **np**.**append**"
      ],
      "metadata": {
        "id": "G-P-g8T-sW5o"
      }
    },
    {
      "cell_type": "code",
      "source": [
        "# code\n",
        "np.append(a,200)"
      ],
      "metadata": {
        "id": "Y3fHkR1gfd1X",
        "colab": {
          "base_uri": "https://localhost:8080/"
        },
        "outputId": "c5df6732-1fe3-4f49-b5f1-7febd953132e"
      },
      "execution_count": 65,
      "outputs": [
        {
          "output_type": "execute_result",
          "data": {
            "text/plain": [
              "array([ 35,   7,  70,   2,  46,  86,  21,  89,  49,  14,  64,  19,  98,\n",
              "        88,  35, 200])"
            ]
          },
          "metadata": {},
          "execution_count": 65
        }
      ]
    },
    {
      "cell_type": "code",
      "source": [
        "b"
      ],
      "metadata": {
        "colab": {
          "base_uri": "https://localhost:8080/"
        },
        "id": "vmPc3zS3L2LL",
        "outputId": "6ea813bf-9601-4d9b-bc65-f35a5ea443cf"
      },
      "execution_count": 66,
      "outputs": [
        {
          "output_type": "execute_result",
          "data": {
            "text/plain": [
              "array([[33, 70, 44, 80],\n",
              "       [31, 68, 14,  2],\n",
              "       [67,  8, 28, 77],\n",
              "       [33, 30, 47, 47],\n",
              "       [86, 79, 92, 22],\n",
              "       [54, 12, 25, 58]])"
            ]
          },
          "metadata": {},
          "execution_count": 66
        }
      ]
    },
    {
      "cell_type": "code",
      "source": [
        "np.append(b,np.random.random((b.shape[0],1)),axis=1)"
      ],
      "metadata": {
        "colab": {
          "base_uri": "https://localhost:8080/"
        },
        "id": "LsIvCKQ5L-DB",
        "outputId": "57e9ecf0-0bda-42d1-bd2a-8565d8148151"
      },
      "execution_count": 67,
      "outputs": [
        {
          "output_type": "execute_result",
          "data": {
            "text/plain": [
              "array([[33.        , 70.        , 44.        , 80.        ,  0.54624386],\n",
              "       [31.        , 68.        , 14.        ,  2.        ,  0.24866058],\n",
              "       [67.        ,  8.        , 28.        , 77.        ,  0.3018974 ],\n",
              "       [33.        , 30.        , 47.        , 47.        ,  0.42380714],\n",
              "       [86.        , 79.        , 92.        , 22.        ,  0.12742354],\n",
              "       [54.        , 12.        , 25.        , 58.        ,  0.13128157]])"
            ]
          },
          "metadata": {},
          "execution_count": 67
        }
      ]
    },
    {
      "cell_type": "markdown",
      "source": [
        "# **np**.**concatenate**"
      ],
      "metadata": {
        "id": "nhd9DuQisjCR"
      }
    },
    {
      "cell_type": "code",
      "source": [
        "# code\n",
        "c = np.arange(6).reshape(2,3)\n",
        "d = np.arange(6,12).reshape(2,3)\n",
        "\n",
        "print(c)\n",
        "print(d)"
      ],
      "metadata": {
        "colab": {
          "base_uri": "https://localhost:8080/"
        },
        "id": "Nrj1_QXfWZlV",
        "outputId": "7b0494e3-9de7-4f0a-a8de-503536708475"
      },
      "execution_count": 68,
      "outputs": [
        {
          "output_type": "stream",
          "name": "stdout",
          "text": [
            "[[0 1 2]\n",
            " [3 4 5]]\n",
            "[[ 6  7  8]\n",
            " [ 9 10 11]]\n"
          ]
        }
      ]
    },
    {
      "cell_type": "code",
      "source": [
        "np.concatenate((c,d),axis=0)"
      ],
      "metadata": {
        "id": "fDHBrV7VA4yz",
        "colab": {
          "base_uri": "https://localhost:8080/"
        },
        "outputId": "8698f954-080b-48f3-b592-c18f4bc6360a"
      },
      "execution_count": 69,
      "outputs": [
        {
          "output_type": "execute_result",
          "data": {
            "text/plain": [
              "array([[ 0,  1,  2],\n",
              "       [ 3,  4,  5],\n",
              "       [ 6,  7,  8],\n",
              "       [ 9, 10, 11]])"
            ]
          },
          "metadata": {},
          "execution_count": 69
        }
      ]
    },
    {
      "cell_type": "code",
      "source": [
        "np.concatenate((c,d),axis=1)"
      ],
      "metadata": {
        "colab": {
          "base_uri": "https://localhost:8080/"
        },
        "id": "GN9DnJ65Mr_b",
        "outputId": "20d9a357-0aa0-4c6b-aeba-647c3a21c76d"
      },
      "execution_count": 70,
      "outputs": [
        {
          "output_type": "execute_result",
          "data": {
            "text/plain": [
              "array([[ 0,  1,  2,  6,  7,  8],\n",
              "       [ 3,  4,  5,  9, 10, 11]])"
            ]
          },
          "metadata": {},
          "execution_count": 70
        }
      ]
    },
    {
      "cell_type": "markdown",
      "source": [
        "## **np.unique**"
      ],
      "metadata": {
        "id": "N2X3WywjsqzB"
      }
    },
    {
      "cell_type": "code",
      "source": [
        "# code\n",
        "e = np.array([1,1,2,2,3,3,4,4,5,5,6,6])"
      ],
      "metadata": {
        "id": "NvG0KHpNWdN_"
      },
      "execution_count": 71,
      "outputs": []
    },
    {
      "cell_type": "code",
      "source": [
        "np.unique(e)"
      ],
      "metadata": {
        "id": "XWr932XeCFz1",
        "colab": {
          "base_uri": "https://localhost:8080/"
        },
        "outputId": "a0429712-a349-4ade-c43e-4d1d995d0294"
      },
      "execution_count": 72,
      "outputs": [
        {
          "output_type": "execute_result",
          "data": {
            "text/plain": [
              "array([1, 2, 3, 4, 5, 6])"
            ]
          },
          "metadata": {},
          "execution_count": 72
        }
      ]
    },
    {
      "cell_type": "markdown",
      "source": [
        "# **np.expand_dims**"
      ],
      "metadata": {
        "id": "irGsZ2MMsyAx"
      }
    },
    {
      "cell_type": "code",
      "source": [
        "# code\n",
        "a.shape"
      ],
      "metadata": {
        "id": "Pyvf-oZ0XTvr",
        "colab": {
          "base_uri": "https://localhost:8080/"
        },
        "outputId": "dda9f911-95a1-46e9-d85e-27f2dfca2bbf"
      },
      "execution_count": 73,
      "outputs": [
        {
          "output_type": "execute_result",
          "data": {
            "text/plain": [
              "(15,)"
            ]
          },
          "metadata": {},
          "execution_count": 73
        }
      ]
    },
    {
      "cell_type": "code",
      "source": [
        "np.expand_dims(a,axis=0).shape"
      ],
      "metadata": {
        "colab": {
          "base_uri": "https://localhost:8080/"
        },
        "id": "B-Pk9HNzNdrb",
        "outputId": "0cd91bdb-b7cd-454e-babe-d094122efc6d"
      },
      "execution_count": 74,
      "outputs": [
        {
          "output_type": "execute_result",
          "data": {
            "text/plain": [
              "(1, 15)"
            ]
          },
          "metadata": {},
          "execution_count": 74
        }
      ]
    },
    {
      "cell_type": "code",
      "source": [
        "np.expand_dims(a,axis=1)"
      ],
      "metadata": {
        "colab": {
          "base_uri": "https://localhost:8080/"
        },
        "id": "5d0Ahp8QNsKO",
        "outputId": "2e14eea4-a96f-45e8-dd14-19ccd2fe54a4"
      },
      "execution_count": 75,
      "outputs": [
        {
          "output_type": "execute_result",
          "data": {
            "text/plain": [
              "array([[35],\n",
              "       [ 7],\n",
              "       [70],\n",
              "       [ 2],\n",
              "       [46],\n",
              "       [86],\n",
              "       [21],\n",
              "       [89],\n",
              "       [49],\n",
              "       [14],\n",
              "       [64],\n",
              "       [19],\n",
              "       [98],\n",
              "       [88],\n",
              "       [35]])"
            ]
          },
          "metadata": {},
          "execution_count": 75
        }
      ]
    },
    {
      "cell_type": "markdown",
      "source": [
        "# np.where"
      ],
      "metadata": {
        "id": "sw6XNj_1s3gx"
      }
    },
    {
      "cell_type": "code",
      "source": [
        "a"
      ],
      "metadata": {
        "id": "H8k_ZDXjEo5W",
        "colab": {
          "base_uri": "https://localhost:8080/"
        },
        "outputId": "f0f644e4-42f9-4ee7-d40c-736c9e4a331f"
      },
      "execution_count": 76,
      "outputs": [
        {
          "output_type": "execute_result",
          "data": {
            "text/plain": [
              "array([35,  7, 70,  2, 46, 86, 21, 89, 49, 14, 64, 19, 98, 88, 35])"
            ]
          },
          "metadata": {},
          "execution_count": 76
        }
      ]
    },
    {
      "cell_type": "code",
      "source": [
        "# find all indices with value greater than 50\n",
        "np.where(a>50)"
      ],
      "metadata": {
        "colab": {
          "base_uri": "https://localhost:8080/"
        },
        "id": "n9mkvdFdHGLY",
        "outputId": "d2c2815c-fead-47b8-d8a4-64213701dc78"
      },
      "execution_count": 77,
      "outputs": [
        {
          "output_type": "execute_result",
          "data": {
            "text/plain": [
              "(array([ 2,  5,  7, 10, 12, 13]),)"
            ]
          },
          "metadata": {},
          "execution_count": 77
        }
      ]
    },
    {
      "cell_type": "code",
      "source": [
        "# replace all values > 50 with 0\n",
        "np.where(a>50,0,a)"
      ],
      "metadata": {
        "id": "zJAUufBOHcu1",
        "colab": {
          "base_uri": "https://localhost:8080/"
        },
        "outputId": "c798378c-94ab-474e-c35a-fac9805d5f2d"
      },
      "execution_count": 78,
      "outputs": [
        {
          "output_type": "execute_result",
          "data": {
            "text/plain": [
              "array([35,  7,  0,  2, 46,  0, 21,  0, 49, 14,  0, 19,  0,  0, 35])"
            ]
          },
          "metadata": {},
          "execution_count": 78
        }
      ]
    },
    {
      "cell_type": "code",
      "source": [
        "np.where(a%2 == 0,0,a)"
      ],
      "metadata": {
        "colab": {
          "base_uri": "https://localhost:8080/"
        },
        "id": "Ygx7fC0BPP9e",
        "outputId": "451a833e-155c-4ce6-d09e-4ed70720c085"
      },
      "execution_count": 79,
      "outputs": [
        {
          "output_type": "execute_result",
          "data": {
            "text/plain": [
              "array([35,  7,  0,  0,  0,  0, 21, 89, 49,  0,  0, 19,  0,  0, 35])"
            ]
          },
          "metadata": {},
          "execution_count": 79
        }
      ]
    },
    {
      "cell_type": "markdown",
      "source": [
        "# **np.argmax**"
      ],
      "metadata": {
        "id": "J0TdzBrKs8sI"
      }
    },
    {
      "cell_type": "code",
      "source": [
        "# code\n",
        "a"
      ],
      "metadata": {
        "colab": {
          "base_uri": "https://localhost:8080/"
        },
        "id": "8YlXmMuaIRpj",
        "outputId": "bd22c054-ee3d-4c5a-c21f-5eff0b5425ec"
      },
      "execution_count": 80,
      "outputs": [
        {
          "output_type": "execute_result",
          "data": {
            "text/plain": [
              "array([35,  7, 70,  2, 46, 86, 21, 89, 49, 14, 64, 19, 98, 88, 35])"
            ]
          },
          "metadata": {},
          "execution_count": 80
        }
      ]
    },
    {
      "cell_type": "code",
      "source": [
        "np.argmax(a)"
      ],
      "metadata": {
        "colab": {
          "base_uri": "https://localhost:8080/"
        },
        "id": "gdrU6cQ9Pn_A",
        "outputId": "b440fcb1-6c40-4fbf-cef4-e9dcb2f129de"
      },
      "execution_count": 81,
      "outputs": [
        {
          "output_type": "execute_result",
          "data": {
            "text/plain": [
              "np.int64(12)"
            ]
          },
          "metadata": {},
          "execution_count": 81
        }
      ]
    },
    {
      "cell_type": "code",
      "source": [
        "b"
      ],
      "metadata": {
        "colab": {
          "base_uri": "https://localhost:8080/"
        },
        "id": "CohggNGrP5am",
        "outputId": "7ebbcf03-8fd9-4f1b-8a47-944ba3d02f31"
      },
      "execution_count": 82,
      "outputs": [
        {
          "output_type": "execute_result",
          "data": {
            "text/plain": [
              "array([[33, 70, 44, 80],\n",
              "       [31, 68, 14,  2],\n",
              "       [67,  8, 28, 77],\n",
              "       [33, 30, 47, 47],\n",
              "       [86, 79, 92, 22],\n",
              "       [54, 12, 25, 58]])"
            ]
          },
          "metadata": {},
          "execution_count": 82
        }
      ]
    },
    {
      "cell_type": "code",
      "source": [
        "np.argmax(b,axis=0)"
      ],
      "metadata": {
        "colab": {
          "base_uri": "https://localhost:8080/"
        },
        "id": "435CD24aIpNA",
        "outputId": "8f4fe3bb-4ad3-46c8-c808-14a675461eef"
      },
      "execution_count": 83,
      "outputs": [
        {
          "output_type": "execute_result",
          "data": {
            "text/plain": [
              "array([4, 4, 4, 0])"
            ]
          },
          "metadata": {},
          "execution_count": 83
        }
      ]
    },
    {
      "cell_type": "code",
      "source": [
        "np.argmax(b,axis=1)"
      ],
      "metadata": {
        "colab": {
          "base_uri": "https://localhost:8080/"
        },
        "id": "PBuZH3mbQE1U",
        "outputId": "df107a59-c8e3-42cb-d137-41dd56c20cc9"
      },
      "execution_count": 84,
      "outputs": [
        {
          "output_type": "execute_result",
          "data": {
            "text/plain": [
              "array([3, 1, 3, 2, 2, 3])"
            ]
          },
          "metadata": {},
          "execution_count": 84
        }
      ]
    },
    {
      "cell_type": "code",
      "source": [
        "# np.argmin\n",
        "np.argmin(a)"
      ],
      "metadata": {
        "id": "T9TrLGNBWjV1",
        "colab": {
          "base_uri": "https://localhost:8080/"
        },
        "outputId": "495895c7-dddc-4995-8379-ef2f49fbdd79"
      },
      "execution_count": 85,
      "outputs": [
        {
          "output_type": "execute_result",
          "data": {
            "text/plain": [
              "np.int64(3)"
            ]
          },
          "metadata": {},
          "execution_count": 85
        }
      ]
    },
    {
      "cell_type": "markdown",
      "source": [
        "# **np.cumsum**"
      ],
      "metadata": {
        "id": "_OynraJ-tGSB"
      }
    },
    {
      "cell_type": "code",
      "source": [
        "a"
      ],
      "metadata": {
        "id": "VZmQUWH9bDk_",
        "colab": {
          "base_uri": "https://localhost:8080/"
        },
        "outputId": "78815f56-fbe9-4fe9-e782-07022efbf3a8"
      },
      "execution_count": 86,
      "outputs": [
        {
          "output_type": "execute_result",
          "data": {
            "text/plain": [
              "array([35,  7, 70,  2, 46, 86, 21, 89, 49, 14, 64, 19, 98, 88, 35])"
            ]
          },
          "metadata": {},
          "execution_count": 86
        }
      ]
    },
    {
      "cell_type": "code",
      "source": [
        "np.cumsum(a)"
      ],
      "metadata": {
        "colab": {
          "base_uri": "https://localhost:8080/"
        },
        "id": "O0npD0R_RF-A",
        "outputId": "a7e03d72-2b6f-45f0-fbcb-2087230d148f"
      },
      "execution_count": 87,
      "outputs": [
        {
          "output_type": "execute_result",
          "data": {
            "text/plain": [
              "array([ 35,  42, 112, 114, 160, 246, 267, 356, 405, 419, 483, 502, 600,\n",
              "       688, 723])"
            ]
          },
          "metadata": {},
          "execution_count": 87
        }
      ]
    },
    {
      "cell_type": "code",
      "source": [
        "b"
      ],
      "metadata": {
        "colab": {
          "base_uri": "https://localhost:8080/"
        },
        "id": "Ypr5nUGxRJuO",
        "outputId": "f9869d43-9f19-48cc-c56c-16276f0b9665"
      },
      "execution_count": 88,
      "outputs": [
        {
          "output_type": "execute_result",
          "data": {
            "text/plain": [
              "array([[33, 70, 44, 80],\n",
              "       [31, 68, 14,  2],\n",
              "       [67,  8, 28, 77],\n",
              "       [33, 30, 47, 47],\n",
              "       [86, 79, 92, 22],\n",
              "       [54, 12, 25, 58]])"
            ]
          },
          "metadata": {},
          "execution_count": 88
        }
      ]
    },
    {
      "cell_type": "code",
      "source": [
        "np.cumsum(b,axis=1)"
      ],
      "metadata": {
        "colab": {
          "base_uri": "https://localhost:8080/"
        },
        "id": "WXRZyWT9RTMw",
        "outputId": "d4c4235f-2b23-4744-e3b2-322b29c7402d"
      },
      "execution_count": 89,
      "outputs": [
        {
          "output_type": "execute_result",
          "data": {
            "text/plain": [
              "array([[ 33, 103, 147, 227],\n",
              "       [ 31,  99, 113, 115],\n",
              "       [ 67,  75, 103, 180],\n",
              "       [ 33,  63, 110, 157],\n",
              "       [ 86, 165, 257, 279],\n",
              "       [ 54,  66,  91, 149]])"
            ]
          },
          "metadata": {},
          "execution_count": 89
        }
      ]
    },
    {
      "cell_type": "code",
      "source": [
        "np.cumsum(b)"
      ],
      "metadata": {
        "colab": {
          "base_uri": "https://localhost:8080/"
        },
        "id": "5WGkAjfjRNOe",
        "outputId": "ae38ccbc-906b-4ecd-a21e-6325cc2fb28f"
      },
      "execution_count": 90,
      "outputs": [
        {
          "output_type": "execute_result",
          "data": {
            "text/plain": [
              "array([  33,  103,  147,  227,  258,  326,  340,  342,  409,  417,  445,\n",
              "        522,  555,  585,  632,  679,  765,  844,  936,  958, 1012, 1024,\n",
              "       1049, 1107])"
            ]
          },
          "metadata": {},
          "execution_count": 90
        }
      ]
    },
    {
      "cell_type": "code",
      "source": [
        "# np.cumprod\n",
        "np.cumprod(a)"
      ],
      "metadata": {
        "id": "RtGuPGr9WlVV",
        "colab": {
          "base_uri": "https://localhost:8080/"
        },
        "outputId": "2464ac0f-fffa-401d-f99b-8c16a039087e"
      },
      "execution_count": 91,
      "outputs": [
        {
          "output_type": "execute_result",
          "data": {
            "text/plain": [
              "array([                  35,                  245,                17150,\n",
              "                      34300,              1577800,            135690800,\n",
              "                 2849506800,         253606105200,       12426699154800,\n",
              "            173973788167200,    11134322442700800,   211552126411315200,\n",
              "        2285364314599337984, -1802125126063325184, -7734147191087726592])"
            ]
          },
          "metadata": {},
          "execution_count": 91
        }
      ]
    },
    {
      "cell_type": "code",
      "source": [
        "a"
      ],
      "metadata": {
        "colab": {
          "base_uri": "https://localhost:8080/"
        },
        "id": "8kdxzQXiRMOS",
        "outputId": "4eba153b-d792-4154-ee71-e5ec3a4286d9"
      },
      "execution_count": 92,
      "outputs": [
        {
          "output_type": "execute_result",
          "data": {
            "text/plain": [
              "array([35,  7, 70,  2, 46, 86, 21, 89, 49, 14, 64, 19, 98, 88, 35])"
            ]
          },
          "metadata": {},
          "execution_count": 92
        }
      ]
    },
    {
      "cell_type": "markdown",
      "source": [
        "# **np.percentile**"
      ],
      "metadata": {
        "id": "txIACjPltLx5"
      }
    },
    {
      "cell_type": "code",
      "source": [
        "a"
      ],
      "metadata": {
        "colab": {
          "base_uri": "https://localhost:8080/"
        },
        "id": "_o8iH4Evcl8C",
        "outputId": "62178e51-e732-4d2d-8f68-e7780825b131"
      },
      "execution_count": 93,
      "outputs": [
        {
          "output_type": "execute_result",
          "data": {
            "text/plain": [
              "array([35,  7, 70,  2, 46, 86, 21, 89, 49, 14, 64, 19, 98, 88, 35])"
            ]
          },
          "metadata": {},
          "execution_count": 93
        }
      ]
    },
    {
      "cell_type": "code",
      "source": [
        "np.percentile(a,50)"
      ],
      "metadata": {
        "colab": {
          "base_uri": "https://localhost:8080/"
        },
        "id": "gBH8ZvtrSND9",
        "outputId": "09d5ee00-ecc1-473a-97ba-8969b7496d98"
      },
      "execution_count": 94,
      "outputs": [
        {
          "output_type": "execute_result",
          "data": {
            "text/plain": [
              "np.float64(46.0)"
            ]
          },
          "metadata": {},
          "execution_count": 94
        }
      ]
    },
    {
      "cell_type": "code",
      "source": [
        "np.median(a)"
      ],
      "metadata": {
        "colab": {
          "base_uri": "https://localhost:8080/"
        },
        "id": "KLIhMJSTScTy",
        "outputId": "e1cf4960-6f81-4163-f6d8-c2e616a59ea1"
      },
      "execution_count": 95,
      "outputs": [
        {
          "output_type": "execute_result",
          "data": {
            "text/plain": [
              "np.float64(46.0)"
            ]
          },
          "metadata": {},
          "execution_count": 95
        }
      ]
    },
    {
      "cell_type": "markdown",
      "source": [
        "# **np.histogram**"
      ],
      "metadata": {
        "id": "oSXnWfPUtQjZ"
      }
    },
    {
      "cell_type": "code",
      "source": [
        "# code\n",
        "a"
      ],
      "metadata": {
        "colab": {
          "base_uri": "https://localhost:8080/"
        },
        "id": "S2pFLU5ZWuTx",
        "outputId": "cf77198b-b4e0-42a3-c3f4-e9c680cae29b"
      },
      "execution_count": 36,
      "outputs": [
        {
          "output_type": "execute_result",
          "data": {
            "text/plain": [
              "array([70, 72, 36, 50, 98, 51, 46, 27, 26, 22, 27, 49,  1, 95, 94])"
            ]
          },
          "metadata": {},
          "execution_count": 36
        }
      ]
    },
    {
      "cell_type": "code",
      "source": [
        "np.histogram(a,bins=[0,50,100])"
      ],
      "metadata": {
        "colab": {
          "base_uri": "https://localhost:8080/"
        },
        "id": "wZlQuOFpSbE3",
        "outputId": "5db9ae55-1d56-415f-ce87-01888e8573d8"
      },
      "execution_count": 37,
      "outputs": [
        {
          "output_type": "execute_result",
          "data": {
            "text/plain": [
              "(array([8, 7]), array([  0,  50, 100]))"
            ]
          },
          "metadata": {},
          "execution_count": 37
        }
      ]
    },
    {
      "cell_type": "markdown",
      "source": [
        "# **np.corrcoef**"
      ],
      "metadata": {
        "id": "j-kX8xVvtUso"
      }
    },
    {
      "cell_type": "code",
      "source": [
        "salary = np.array([20000,40000,25000,35000,60000])\n",
        "experience = np.array([1,3,2,4,2])\n",
        "\n",
        "np.corrcoef(salary,experience)"
      ],
      "metadata": {
        "id": "ZAMnvEm5WyUp",
        "colab": {
          "base_uri": "https://localhost:8080/"
        },
        "outputId": "683e65c3-8c0b-4ca6-e498-f8919cc77566"
      },
      "execution_count": 96,
      "outputs": [
        {
          "output_type": "execute_result",
          "data": {
            "text/plain": [
              "array([[1.        , 0.25344572],\n",
              "       [0.25344572, 1.        ]])"
            ]
          },
          "metadata": {},
          "execution_count": 96
        }
      ]
    },
    {
      "cell_type": "markdown",
      "source": [
        "# **np.isin**"
      ],
      "metadata": {
        "id": "ZreBK_e5tYIA"
      }
    },
    {
      "cell_type": "code",
      "source": [
        "# code\n",
        "a\n"
      ],
      "metadata": {
        "colab": {
          "base_uri": "https://localhost:8080/"
        },
        "id": "oyyVo0qnW2Cz",
        "outputId": "c4dfb388-6921-4682-ce5b-021dfaeb8334"
      },
      "execution_count": 97,
      "outputs": [
        {
          "output_type": "execute_result",
          "data": {
            "text/plain": [
              "array([35,  7, 70,  2, 46, 86, 21, 89, 49, 14, 64, 19, 98, 88, 35])"
            ]
          },
          "metadata": {},
          "execution_count": 97
        }
      ]
    },
    {
      "cell_type": "code",
      "source": [
        "items = [10,20,30,40,50,60,70,80,90,100]\n",
        "\n",
        "a[np.isin(a,items)]"
      ],
      "metadata": {
        "colab": {
          "base_uri": "https://localhost:8080/"
        },
        "id": "lLA0c9z2VE3O",
        "outputId": "965b09ef-adea-4c11-cff9-fcc84a959ec4"
      },
      "execution_count": 98,
      "outputs": [
        {
          "output_type": "execute_result",
          "data": {
            "text/plain": [
              "array([70])"
            ]
          },
          "metadata": {},
          "execution_count": 98
        }
      ]
    },
    {
      "cell_type": "markdown",
      "source": [
        "# **np.flip**"
      ],
      "metadata": {
        "id": "lAn7XEE-tcfA"
      }
    },
    {
      "cell_type": "code",
      "source": [
        "# code\n",
        "a"
      ],
      "metadata": {
        "id": "lMreAl7yEvBa",
        "colab": {
          "base_uri": "https://localhost:8080/"
        },
        "outputId": "30bf087c-2062-4bcd-ce16-e7e240f88c93"
      },
      "execution_count": 99,
      "outputs": [
        {
          "output_type": "execute_result",
          "data": {
            "text/plain": [
              "array([35,  7, 70,  2, 46, 86, 21, 89, 49, 14, 64, 19, 98, 88, 35])"
            ]
          },
          "metadata": {},
          "execution_count": 99
        }
      ]
    },
    {
      "cell_type": "code",
      "source": [
        "np.flip(a)"
      ],
      "metadata": {
        "colab": {
          "base_uri": "https://localhost:8080/"
        },
        "id": "82l_pzDbVfNp",
        "outputId": "c35bfaa9-57f1-461f-eddf-83be7f5eeee4"
      },
      "execution_count": 100,
      "outputs": [
        {
          "output_type": "execute_result",
          "data": {
            "text/plain": [
              "array([35, 88, 98, 19, 64, 14, 49, 89, 21, 86, 46,  2, 70,  7, 35])"
            ]
          },
          "metadata": {},
          "execution_count": 100
        }
      ]
    },
    {
      "cell_type": "code",
      "source": [
        "b"
      ],
      "metadata": {
        "colab": {
          "base_uri": "https://localhost:8080/"
        },
        "id": "nWp3PQ87Vkin",
        "outputId": "c6b5f5f4-58da-4095-9082-e49c247f19b5"
      },
      "execution_count": 101,
      "outputs": [
        {
          "output_type": "execute_result",
          "data": {
            "text/plain": [
              "array([[33, 70, 44, 80],\n",
              "       [31, 68, 14,  2],\n",
              "       [67,  8, 28, 77],\n",
              "       [33, 30, 47, 47],\n",
              "       [86, 79, 92, 22],\n",
              "       [54, 12, 25, 58]])"
            ]
          },
          "metadata": {},
          "execution_count": 101
        }
      ]
    },
    {
      "cell_type": "code",
      "source": [
        "np.flip(b,axis=1)"
      ],
      "metadata": {
        "colab": {
          "base_uri": "https://localhost:8080/"
        },
        "id": "UOU3WOBwVm59",
        "outputId": "d9d008c6-f316-43c7-b978-8c7e1851e401"
      },
      "execution_count": 102,
      "outputs": [
        {
          "output_type": "execute_result",
          "data": {
            "text/plain": [
              "array([[80, 44, 70, 33],\n",
              "       [ 2, 14, 68, 31],\n",
              "       [77, 28,  8, 67],\n",
              "       [47, 47, 30, 33],\n",
              "       [22, 92, 79, 86],\n",
              "       [58, 25, 12, 54]])"
            ]
          },
          "metadata": {},
          "execution_count": 102
        }
      ]
    },
    {
      "cell_type": "markdown",
      "source": [
        "# **np.put**"
      ],
      "metadata": {
        "id": "R1Z7A8w-thrZ"
      }
    },
    {
      "cell_type": "code",
      "source": [
        "# code\n",
        "a"
      ],
      "metadata": {
        "id": "xZrJHzr0E0zN",
        "colab": {
          "base_uri": "https://localhost:8080/"
        },
        "outputId": "a7dc2ba1-28cd-4d0b-d1b5-e777c014b510"
      },
      "execution_count": 103,
      "outputs": [
        {
          "output_type": "execute_result",
          "data": {
            "text/plain": [
              "array([35,  7, 70,  2, 46, 86, 21, 89, 49, 14, 64, 19, 98, 88, 35])"
            ]
          },
          "metadata": {},
          "execution_count": 103
        }
      ]
    },
    {
      "cell_type": "code",
      "source": [
        "np.put(a,[0,1],[110,530])"
      ],
      "metadata": {
        "id": "dtl97d4SWHUG"
      },
      "execution_count": 104,
      "outputs": []
    },
    {
      "cell_type": "markdown",
      "source": [
        "# **np.delete**"
      ],
      "metadata": {
        "id": "PDdvuumJtlCY"
      }
    },
    {
      "cell_type": "code",
      "source": [
        "# code\n",
        "a"
      ],
      "metadata": {
        "id": "VmGLdiy5pQXc",
        "colab": {
          "base_uri": "https://localhost:8080/"
        },
        "outputId": "99991ad6-42a2-4211-83b4-ea7918c3ee7f"
      },
      "execution_count": 105,
      "outputs": [
        {
          "output_type": "execute_result",
          "data": {
            "text/plain": [
              "array([110, 530,  70,   2,  46,  86,  21,  89,  49,  14,  64,  19,  98,\n",
              "        88,  35])"
            ]
          },
          "metadata": {},
          "execution_count": 105
        }
      ]
    },
    {
      "cell_type": "code",
      "source": [
        "np.delete(a,[0,2,4])"
      ],
      "metadata": {
        "colab": {
          "base_uri": "https://localhost:8080/"
        },
        "id": "A5Dp974mWeWd",
        "outputId": "e0b1bf53-d9e7-481e-abc7-853bb604d1cc"
      },
      "execution_count": 106,
      "outputs": [
        {
          "output_type": "execute_result",
          "data": {
            "text/plain": [
              "array([530,   2,  86,  21,  89,  49,  14,  64,  19,  98,  88,  35])"
            ]
          },
          "metadata": {},
          "execution_count": 106
        }
      ]
    },
    {
      "cell_type": "markdown",
      "source": [
        "### Set functions\n",
        "\n",
        "- np.union1d\n",
        "- np.intersect1d\n",
        "- np.setdiff1d\n",
        "- np.setxor1d\n",
        "- np.in1d"
      ],
      "metadata": {
        "id": "Ei94MbFbrjvx"
      }
    },
    {
      "cell_type": "code",
      "source": [
        "m = np.array([1,2,3,4,5])\n",
        "n = np.array([3,4,5,6,7])\n",
        "\n",
        "np.union1d(m,n)"
      ],
      "metadata": {
        "id": "hHSwzU1irY0f",
        "colab": {
          "base_uri": "https://localhost:8080/"
        },
        "outputId": "a1f20ab1-1ea7-4e48-a98b-415eaed1afd9"
      },
      "execution_count": 112,
      "outputs": [
        {
          "output_type": "execute_result",
          "data": {
            "text/plain": [
              "array([1, 2, 3, 4, 5, 6, 7])"
            ]
          },
          "metadata": {},
          "execution_count": 112
        }
      ]
    },
    {
      "cell_type": "code",
      "source": [
        "np.intersect1d(m,n)"
      ],
      "metadata": {
        "colab": {
          "base_uri": "https://localhost:8080/"
        },
        "id": "XSIuF3zWXZXP",
        "outputId": "1678835b-4761-458f-9abe-75f9cd40db6e"
      },
      "execution_count": 108,
      "outputs": [
        {
          "output_type": "execute_result",
          "data": {
            "text/plain": [
              "array([3, 4, 5])"
            ]
          },
          "metadata": {},
          "execution_count": 108
        }
      ]
    },
    {
      "cell_type": "code",
      "source": [
        "np.setdiff1d(n,m)"
      ],
      "metadata": {
        "colab": {
          "base_uri": "https://localhost:8080/"
        },
        "id": "HhGH8cskXgR5",
        "outputId": "37e783f8-0365-42ec-d526-9d1bbcd28523"
      },
      "execution_count": 114,
      "outputs": [
        {
          "output_type": "execute_result",
          "data": {
            "text/plain": [
              "array([6, 7])"
            ]
          },
          "metadata": {},
          "execution_count": 114
        }
      ]
    },
    {
      "cell_type": "code",
      "source": [
        "np.setxor1d(m,n)"
      ],
      "metadata": {
        "colab": {
          "base_uri": "https://localhost:8080/"
        },
        "id": "KaZbcTk0XubR",
        "outputId": "d49a47b8-643a-489c-95a5-2bc961eb65f5"
      },
      "execution_count": 115,
      "outputs": [
        {
          "output_type": "execute_result",
          "data": {
            "text/plain": [
              "array([1, 2, 6, 7])"
            ]
          },
          "metadata": {},
          "execution_count": 115
        }
      ]
    },
    {
      "cell_type": "code",
      "source": [
        "m[np.in1d(m,1)]"
      ],
      "metadata": {
        "colab": {
          "base_uri": "https://localhost:8080/"
        },
        "id": "SqV9rpQ_XzVg",
        "outputId": "fc789eda-c85b-4a3d-a0f7-477355fd1fe7"
      },
      "execution_count": 113,
      "outputs": [
        {
          "output_type": "stream",
          "name": "stderr",
          "text": [
            "<ipython-input-113-3d5a78555eb5>:1: DeprecationWarning: `in1d` is deprecated. Use `np.isin` instead.\n",
            "  m[np.in1d(m,1)]\n"
          ]
        },
        {
          "output_type": "execute_result",
          "data": {
            "text/plain": [
              "array([1])"
            ]
          },
          "metadata": {},
          "execution_count": 113
        }
      ]
    },
    {
      "cell_type": "markdown",
      "source": [
        "# **np.clip**"
      ],
      "metadata": {
        "id": "5pCZHbCDts1g"
      }
    },
    {
      "cell_type": "code",
      "source": [
        "# code\n",
        "a"
      ],
      "metadata": {
        "id": "Q3S9gjNzsL73",
        "colab": {
          "base_uri": "https://localhost:8080/"
        },
        "outputId": "27828866-98b1-4fd7-824d-7dfd789bab8f"
      },
      "execution_count": 116,
      "outputs": [
        {
          "output_type": "execute_result",
          "data": {
            "text/plain": [
              "array([110, 530,  70,   2,  46,  86,  21,  89,  49,  14,  64,  19,  98,\n",
              "        88,  35])"
            ]
          },
          "metadata": {},
          "execution_count": 116
        }
      ]
    },
    {
      "cell_type": "code",
      "source": [
        "np.clip(a,a_min=25,a_max=75)"
      ],
      "metadata": {
        "colab": {
          "base_uri": "https://localhost:8080/"
        },
        "id": "x08JKAVHYOxF",
        "outputId": "c7f75be4-40c4-4b93-e9ae-db2a7189aa26"
      },
      "execution_count": 117,
      "outputs": [
        {
          "output_type": "execute_result",
          "data": {
            "text/plain": [
              "array([75, 75, 70, 25, 46, 75, 25, 75, 49, 25, 64, 25, 75, 75, 35])"
            ]
          },
          "metadata": {},
          "execution_count": 117
        }
      ]
    },
    {
      "cell_type": "code",
      "source": [],
      "metadata": {
        "id": "iNBbQiDeNnZm"
      },
      "execution_count": 61,
      "outputs": []
    },
    {
      "cell_type": "code",
      "source": [],
      "metadata": {
        "id": "B9F5ogZENohK"
      },
      "execution_count": 61,
      "outputs": []
    }
  ]
}