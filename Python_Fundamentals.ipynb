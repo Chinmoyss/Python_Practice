{
 "cells": [
  {
   "cell_type": "code",
   "execution_count": 1,
   "id": "385c0d7c-e4f3-4bbc-9160-836142423998",
   "metadata": {},
   "outputs": [
    {
     "name": "stdout",
     "output_type": "stream",
     "text": [
      "Sum of all elements: 15\n"
     ]
    }
   ],
   "source": [
    "#Sum of all elements in a list\n",
    "num = [1, 2, 3, 4, 5]\n",
    "total_sum = 0\n",
    "for num in num:\n",
    "    total_sum += num\n",
    "print(\"Sum of all elements:\", total_sum)"
   ]
  },
  {
   "cell_type": "code",
   "execution_count": 43,
   "id": "9ba24df6-f2f0-4e78-8164-628e3eb1466b",
   "metadata": {},
   "outputs": [
    {
     "name": "stdout",
     "output_type": "stream",
     "text": [
      "Largest number: 45\n"
     ]
    }
   ],
   "source": [
    "#Find the largest number in a list\n",
    "numbers = [10, 20, 4, 45, 1]\n",
    "largest = numbers[0]\n",
    "for num in numbers:\n",
    "    if num > largest:\n",
    "        largest = num\n",
    "print(\"Largest number:\", largest)"
   ]
  },
  {
   "cell_type": "code",
   "execution_count": null,
   "id": "35c742a0-3d8b-4636-b733-d23224ae01bf",
   "metadata": {},
   "outputs": [
    {
     "name": "stdout",
     "output_type": "stream",
     "text": [
      "Occurrences of 2: 3\n"
     ]
    }
   ],
   "source": [
    "#Count occurrences of an element in a list\n",
    "numbers = [1, 2, 2, 3, 4, 2, 5]\n",
    "count = 0\n",
    "for num in numbers:\n",
    "    if num == 2:\n",
    "        count += 1\n",
    "print(\"Occurrences of 2:\", count)"
   ]
  },
  {
   "cell_type": "code",
   "execution_count": null,
   "id": "4759aeb3-a039-4f2f-a63a-4d4fae0f8dfb",
   "metadata": {},
   "outputs": [
    {
     "name": "stdout",
     "output_type": "stream",
     "text": [
      "Reversed list: [5, 4, 3, 2, 1]\n"
     ]
    }
   ],
   "source": [
    "#Reverse a list using a loop\n",
    "numbers = [1, 2, 3, 4, 5]\n",
    "reversed_list = []\n",
    "for num in numbers:\n",
    "    reversed_list.insert(0, num)\n",
    "print(\"Reversed list:\", reversed_list)"
   ]
  },
  {
   "cell_type": "code",
   "execution_count": null,
   "id": "18e62487-ffe8-48b0-872a-dcda7037504a",
   "metadata": {},
   "outputs": [
    {
     "name": "stdout",
     "output_type": "stream",
     "text": [
      "Common elements: [4, 5]\n"
     ]
    }
   ],
   "source": [
    "#Find common elements in two lists\n",
    "list1 = [1, 2, 3, 4, 5]\n",
    "list2 = [4, 5, 6, 7, 8]\n",
    "common_elements = []\n",
    "for num in list1:\n",
    "    if num in list2:\n",
    "        common_elements.append(num)\n",
    "print(\"Common elements:\", common_elements)"
   ]
  },
  {
   "cell_type": "code",
   "execution_count": null,
   "id": "bdcd72bc-18e5-45d0-b2c0-967434a02ab2",
   "metadata": {},
   "outputs": [
    {
     "name": "stdout",
     "output_type": "stream",
     "text": [
      "enter a string madam\n"
     ]
    },
    {
     "name": "stdout",
     "output_type": "stream",
     "text": [
      "Is palindrome: True\n"
     ]
    }
   ],
   "source": [
    "#Check if a string is a palindrome\n",
    "word = input(\"enter a string\")\n",
    "is_palindrome = True\n",
    "for i in range(len(word)//2):\n",
    "    if word[i] != word[len(word)-1-i]:\n",
    "        is_palindrome = False\n",
    "        break\n",
    "print(\"Is palindrome:\", is_palindrome)\n"
   ]
  },
  {
   "cell_type": "code",
   "execution_count": 1,
   "id": "4f08a970-8338-4d49-b03f-2d806843c967",
   "metadata": {},
   "outputs": [
    {
     "name": "stdout",
     "output_type": "stream",
     "text": [
      "Merged dictionary: {'a': 1, 'b': 2, 'c': 3, 'd': 4}\n"
     ]
    }
   ],
   "source": [
    "#\n",
    "dict1 = {'a': 1, 'b': 2}\n",
    "dict2 = {'c': 3, 'd': 4}\n",
    "dict1.update(dict2)\n",
    "print(\"Merged dictionary:\", dict1)"
   ]
  },
  {
   "cell_type": "code",
   "execution_count": 41,
   "id": "69e80d8d-9172-4fbe-ba80-d46287818f64",
   "metadata": {},
   "outputs": [
    {
     "name": "stdin",
     "output_type": "stream",
     "text": [
      "Enter numbers separated by commas:  14,17,14,17\n"
     ]
    },
    {
     "name": "stdout",
     "output_type": "stream",
     "text": [
      "Second largest number: 14\n"
     ]
    }
   ],
   "source": [
    "#Find the Second Largest Number in a List\n",
    "num = list(map(int, input(\"Enter numbers separated by commas: \").split(\",\")))\n",
    "if len(num) < 2:\n",
    "    print(\"Error: Need at least two numbers!\")\n",
    "else:\n",
    "    large = sec_large = float('-inf')\n",
    "    \n",
    "    for i in num:\n",
    "        if i > lar:\n",
    "            sec_lar = lar\n",
    "            lar = i\n",
    "        elif sec_lar < i < lar:\n",
    "            sec_lar = i\n",
    "\n",
    "    if sec_lar == float('-inf'):\n",
    "        print(\"No second largest number found!\")\n",
    "    else:\n",
    "        print(\"Second largest number:\", sec_lar)\n",
    "\n",
    "                                                                                                                                                                                                       \n",
    "    \n",
    "    \n",
    "        "
   ]
  },
  {
   "cell_type": "code",
   "execution_count": 1,
   "id": "7e36e117-0b5f-429c-9527-203779e3e44c",
   "metadata": {},
   "outputs": [
    {
     "name": "stdin",
     "output_type": "stream",
     "text": [
      "Enter an array:  1,2,3,4\n",
      "Enter a target number:  7\n"
     ]
    },
    {
     "name": "stdout",
     "output_type": "stream",
     "text": [
      "[2, 3]\n"
     ]
    }
   ],
   "source": [
    "#return indices of the two numbers such that they add up to target\n",
    "\n",
    "num = list(map(int, input(\"Enter an array: \").split(\",\")))\n",
    "target = int(input(\"Enter a target number: \"))\n",
    "\n",
    "for i in range(len(num)):\n",
    "    for j in range(i + 1, len(num)):  # Ensure we don't use the same element twice\n",
    "        if num[i] + num[j] == target:\n",
    "            print([i, j])\n",
    "            exit()  # Exit after finding the first valid pair\n"
   ]
  },
  {
   "cell_type": "code",
   "execution_count": 15,
   "id": "6463e747-2b3f-4b2f-8e05-7ed1c5c66f14",
   "metadata": {},
   "outputs": [
    {
     "name": "stdin",
     "output_type": "stream",
     "text": [
      " 6\n",
      " 1,1,0,2,2\n"
     ]
    },
    {
     "name": "stdout",
     "output_type": "stream",
     "text": [
      "0.666667\n",
      "0.000000\n",
      "0.166667\n"
     ]
    }
   ],
   "source": [
    "def plusMinus(arr, n):\n",
    "    p = 0\n",
    "    ne = 0\n",
    "    z = 0\n",
    "    for i in arr:\n",
    "        if i > 0:\n",
    "            p += 1\n",
    "        elif i < 0:\n",
    "            ne += 1\n",
    "        elif i == 0:\n",
    "            z += 1\n",
    "\n",
    "    # Calculate the ratios\n",
    "    dec_val = p / n\n",
    "    dec_val_n = ne / n\n",
    "    dec_val_z = z / n\n",
    "\n",
    "    # Print results with 6 decimal places\n",
    "    print(f\"{dec_val:.6f}\")\n",
    "    print(f\"{dec_val_n:.6f}\")\n",
    "    print(f\"{dec_val_z:.6f}\")\n",
    "\n",
    "if __name__ == '__main__':\n",
    "    n = int(input().strip())  # Read the size of the array\n",
    "    arr = list(map(int, input().rstrip().split(',')))  # Read the array\n",
    "    plusMinus(arr, n)  # Call the function with arr and n\n"
   ]
  },
  {
   "cell_type": "code",
   "execution_count": 37,
   "id": "6ea5fabb-bd9e-415b-b2a3-f683e495aad1",
   "metadata": {},
   "outputs": [
    {
     "name": "stdin",
     "output_type": "stream",
     "text": [
      " 1,3,5,7,9\n"
     ]
    },
    {
     "name": "stdout",
     "output_type": "stream",
     "text": [
      "16 24\n"
     ]
    }
   ],
   "source": [
    "def miniMaxSum(arr):\n",
    "    total_sum = sum(arr)\n",
    "    minimum = float('inf')\n",
    "    maximum = float('-inf')\n",
    "\n",
    "    for i in range(len(arr)):\n",
    "        current_sum = total_sum - arr[i]\n",
    "        \n",
    "        if current_sum < minimum:\n",
    "            minimum = current_sum\n",
    "        \n",
    "        if current_sum > maximum:\n",
    "            maximum = current_sum\n",
    "    \n",
    "    print(minimum, maximum)\n",
    "\n",
    "if __name__ == '__main__':\n",
    "    arr = list(map(int, input().rstrip().split(\",\")))\n",
    "    miniMaxSum(arr)\n"
   ]
  },
  {
   "cell_type": "code",
   "execution_count": 99,
   "id": "f82fd5f9-3b02-445d-a268-896b12435be5",
   "metadata": {},
   "outputs": [],
   "source": [
    "s= \"12:00:00PM\"\n",
    "lis= s.split(\":\")\n",
    "temp = \"12:00:00AM\"\n",
    "res = temp.split(\":\")\n",
    "for i in range(len(lis)):\n",
    "    if lis[i]== res:\n",
    "        result = \"00:00:00AM\" + lis[i+1]\n",
    "        print(result)\n",
    "        \n",
    "\n",
    "\n"
   ]
  },
  {
   "cell_type": "code",
   "execution_count": 9,
   "id": "7a088d20-f6b6-4153-bb5f-dd0a039ea5d6",
   "metadata": {},
   "outputs": [
    {
     "name": "stdin",
     "output_type": "stream",
     "text": [
      " 02:25:27PM\n"
     ]
    },
    {
     "name": "stdout",
     "output_type": "stream",
     "text": [
      "14:25:27\n"
     ]
    }
   ],
   "source": [
    "def timeConversion(s):\n",
    "    try:\n",
    "        lis = s[:-2].split(\":\")  # Extract hours, minutes, and seconds\n",
    "        period = s[-2:]  # Get AM or PM\n",
    "        hours = int(lis[0])  # Convert hour part to integer\n",
    "\n",
    "        if period == \"AM\":\n",
    "            if hours == 12:\n",
    "                lis[0] = '00'  # Convert 12 AM to 00\n",
    "        elif period == \"PM\":\n",
    "            if hours != 12:\n",
    "                lis[0] = str(hours + 12)  # Convert PM hours correctly\n",
    "\n",
    "        return \":\".join(lis)  # Return formatted 24-hour time\n",
    "    except ValueError:\n",
    "        return \"Invalid input format. Please enter time as HH:MM:SSAM/PM.\"\n",
    "\n",
    "\n",
    "if __name__ == '__main__':\n",
    "    s = input().strip()\n",
    "    result = timeConversion(s)\n",
    "    print(result)\n"
   ]
  },
  {
   "cell_type": "code",
   "execution_count": 15,
   "id": "f133c195-4f8d-486b-b498-505f36defc8a",
   "metadata": {},
   "outputs": [
    {
     "name": "stdin",
     "output_type": "stream",
     "text": [
      " 5\n",
      " 1 1 2 2 3\n"
     ]
    },
    {
     "name": "stdout",
     "output_type": "stream",
     "text": [
      "3\n"
     ]
    }
   ],
   "source": [
    "def lonelyinteger(a):\n",
    "    result = 0\n",
    "    for i in a:\n",
    "        result ^= i  # XOR all elements; duplicates cancel out, leaving the unique element\n",
    "    return result\n",
    "\n",
    "if __name__ == '__main__':\n",
    "    n = int(input().strip())  # Read the number of elements\n",
    "    a = list(map(int, input().rstrip().split()))  # Read the list of integers\n",
    "    print(lonelyinteger(a))  # Print the unique element\n"
   ]
  },
  {
   "cell_type": "code",
   "execution_count": 19,
   "id": "38a612f4-7cfb-45cb-9262-8a2910837e34",
   "metadata": {},
   "outputs": [
    {
     "name": "stdin",
     "output_type": "stream",
     "text": [
      " 3\n",
      " 2 3 5\n",
      " 1 5 4\n",
      " 1 6 8\n"
     ]
    },
    {
     "name": "stdout",
     "output_type": "stream",
     "text": [
      "4\n"
     ]
    }
   ],
   "source": [
    "#!/bin/python3\n",
    "\n",
    "def diagonalDifference(arr):\n",
    "    n = len(arr)\n",
    "    primary_diagonal = 0\n",
    "    secondary_diagonal = 0\n",
    "\n",
    "    for i in range(n):\n",
    "        primary_diagonal += arr[i][i]\n",
    "        secondary_diagonal += arr[i][n - i - 1]\n",
    "\n",
    "    return abs(primary_diagonal - secondary_diagonal)\n",
    "\n",
    "if __name__ == '__main__':\n",
    "    n = int(input().strip())\n",
    "\n",
    "    arr = []\n",
    "\n",
    "    for _ in range(n):\n",
    "        arr.append(list(map(int, input().rstrip().split())))\n",
    "\n",
    "    result = diagonalDifference(arr)\n",
    "\n",
    "    print(result)  # Prints the result directly\n"
   ]
  },
  {
   "cell_type": "code",
   "execution_count": 27,
   "id": "ad8587c2-d0ca-41a8-9c84-f0a94d4a049d",
   "metadata": {},
   "outputs": [
    {
     "name": "stdin",
     "output_type": "stream",
     "text": [
      " 1 2 3 4 2 1 2 1 2 1  15 25 25 14 13 12 12 13 14 15\n"
     ]
    },
    {
     "name": "stdout",
     "output_type": "stream",
     "text": [
      "0 4 4 1 1 0 0 0 0 0 0 0 2 2 2 2 0 0 0 0 0 0 0 0 0 2 0 0 0 0 0 0 0 0 0 0 0 0 0 0 0 0 0 0 0 0 0 0 0 0 0 0 0 0 0 0 0 0 0 0 0 0 0 0 0 0 0 0 0 0 0 0 0 0 0 0 0 0 0 0 0 0 0 0 0 0 0 0 0 0 0 0 0 0 0 0 0 0 0 0\n"
     ]
    }
   ],
   "source": [
    "#!/bin/python3\n",
    "\n",
    "import sys\n",
    "\n",
    "#\n",
    "# Complete the 'countingSort' function below.\n",
    "#\n",
    "# The function is expected to return an INTEGER_ARRAY.\n",
    "# The function accepts INTEGER_ARRAY arr as parameter.\n",
    "#\n",
    "\n",
    "def countingSort(arr):\n",
    "    frequency = [0] * 100  # Step 1: Initialize frequency array\n",
    "    for i in arr:\n",
    "        frequency[i] += 1  # Step 2: Count occurrences\n",
    "    \n",
    "    return frequency\n",
    "\n",
    "if __name__ == '__main__':\n",
    "    arr = list(map(int, input().rstrip().split()))  # Read input as a list of integers\n",
    "\n",
    "    result = countingSort(arr)  # Call function\n",
    "\n",
    "    print(' '.join(map(str, result)))  # Print the result as space-separated values\n"
   ]
  },
  {
   "cell_type": "code",
   "execution_count": null,
   "id": "b50c1857-110b-4500-bd10-23bda57e992d",
   "metadata": {},
   "outputs": [],
   "source": []
  }
 ],
 "metadata": {
  "kernelspec": {
   "display_name": "Python [conda env:base] *",
   "language": "python",
   "name": "conda-base-py"
  },
  "language_info": {
   "codemirror_mode": {
    "name": "ipython",
    "version": 3
   },
   "file_extension": ".py",
   "mimetype": "text/x-python",
   "name": "python",
   "nbconvert_exporter": "python",
   "pygments_lexer": "ipython3",
   "version": "3.12.7"
  }
 },
 "nbformat": 4,
 "nbformat_minor": 5
}
