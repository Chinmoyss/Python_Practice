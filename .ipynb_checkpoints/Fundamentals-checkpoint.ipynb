{
 "cells": [
  {
   "cell_type": "code",
   "execution_count": null,
   "id": "385c0d7c-e4f3-4bbc-9160-836142423998",
   "metadata": {},
   "outputs": [
    {
     "name": "stdout",
     "output_type": "stream",
     "text": [
      "Sum of all elements: 15\n"
     ]
    }
   ],
   "source": [
    "#Sum of all elements in a list\n",
    "num = [1, 2, 3, 4, 5]\n",
    "total_sum = 0\n",
    "for num in num:\n",
    "    total_sum += num\n",
    "print(\"Sum of all elements:\", total_sum)"
   ]
  },
  {
   "cell_type": "code",
   "execution_count": null,
   "id": "9ba24df6-f2f0-4e78-8164-628e3eb1466b",
   "metadata": {},
   "outputs": [],
   "source": [
    "#Find the largest number in a list\n",
    "numbers = [10, 20, 4, 45, 99]\n",
    "largest = numbers[0]\n",
    "for num in numbers:\n",
    "    if num > largest:\n",
    "        largest = num\n",
    "print(\"Largest number:\", largest)"
   ]
  },
  {
   "cell_type": "code",
   "execution_count": null,
   "id": "35c742a0-3d8b-4636-b733-d23224ae01bf",
   "metadata": {},
   "outputs": [
    {
     "name": "stdout",
     "output_type": "stream",
     "text": [
      "Occurrences of 2: 3\n"
     ]
    }
   ],
   "source": [
    "#Count occurrences of an element in a list\n",
    "numbers = [1, 2, 2, 3, 4, 2, 5]\n",
    "count = 0\n",
    "for num in numbers:\n",
    "    if num == 2:\n",
    "        count += 1\n",
    "print(\"Occurrences of 2:\", count)"
   ]
  },
  {
   "cell_type": "code",
   "execution_count": null,
   "id": "4759aeb3-a039-4f2f-a63a-4d4fae0f8dfb",
   "metadata": {},
   "outputs": [
    {
     "name": "stdout",
     "output_type": "stream",
     "text": [
      "Reversed list: [5, 4, 3, 2, 1]\n"
     ]
    }
   ],
   "source": [
    "#Reverse a list using a loop\n",
    "numbers = [1, 2, 3, 4, 5]\n",
    "reversed_list = []\n",
    "for num in numbers:\n",
    "    reversed_list.insert(0, num)\n",
    "print(\"Reversed list:\", reversed_list)"
   ]
  },
  {
   "cell_type": "code",
   "execution_count": null,
   "id": "18e62487-ffe8-48b0-872a-dcda7037504a",
   "metadata": {},
   "outputs": [
    {
     "name": "stdout",
     "output_type": "stream",
     "text": [
      "Common elements: [4, 5]\n"
     ]
    }
   ],
   "source": [
    "#Find common elements in two lists\n",
    "list1 = [1, 2, 3, 4, 5]\n",
    "list2 = [4, 5, 6, 7, 8]\n",
    "common_elements = []\n",
    "for num in list1:\n",
    "    if num in list2:\n",
    "        common_elements.append(num)\n",
    "print(\"Common elements:\", common_elements)"
   ]
  },
  {
   "cell_type": "code",
   "execution_count": null,
   "id": "bdcd72bc-18e5-45d0-b2c0-967434a02ab2",
   "metadata": {},
   "outputs": [
    {
     "name": "stdout",
     "output_type": "stream",
     "text": [
      "enter a string madam\n"
     ]
    },
    {
     "name": "stdout",
     "output_type": "stream",
     "text": [
      "Is palindrome: True\n"
     ]
    }
   ],
   "source": [
    "#Check if a string is a palindrome\n",
    "word = input(\"enter a string\")\n",
    "is_palindrome = True\n",
    "for i in range(len(word)//2):\n",
    "    if word[i] != word[len(word)-1-i]:\n",
    "        is_palindrome = False\n",
    "        break\n",
    "print(\"Is palindrome:\", is_palindrome)\n"
   ]
  },
  {
   "cell_type": "code",
   "execution_count": null,
   "id": "4f08a970-8338-4d49-b03f-2d806843c967",
   "metadata": {},
   "outputs": [],
   "source": [
    "#\n",
    "dict1 = {'a': 1, 'b': 2}\n",
    "dict2 = {'c': 3, 'd': 4}\n",
    "dict1.update(dict2)\n",
    "print(\"Merged dictionary:\", dict1)"
   ]
  }
 ],
 "metadata": {
  "kernelspec": {
   "display_name": "Python [conda env:base] *",
   "language": "python",
   "name": "conda-base-py"
  },
  "language_info": {
   "codemirror_mode": {
    "name": "ipython",
    "version": 3
   },
   "file_extension": ".py",
   "mimetype": "text/x-python",
   "name": "python",
   "nbconvert_exporter": "python",
   "pygments_lexer": "ipython3",
   "version": "3.12.7"
  }
 },
 "nbformat": 4,
 "nbformat_minor": 5
}
